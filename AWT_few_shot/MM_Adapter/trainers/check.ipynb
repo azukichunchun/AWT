{
 "cells": [
  {
   "cell_type": "code",
   "execution_count": 25,
   "metadata": {},
   "outputs": [],
   "source": [
    "import torch\n",
    "import random"
   ]
  },
  {
   "cell_type": "code",
   "execution_count": 41,
   "metadata": {},
   "outputs": [
    {
     "name": "stdout",
     "output_type": "stream",
     "text": [
      "tensor([2, 2, 1, 3, 1])\n",
      "[0, 8, 2, 13, 1, 4, 9, 5, 11, 3, 12, 10, 6, 14, 7]\n"
     ]
    }
   ],
   "source": [
    "# Define the original tensor\n",
    "#original_tensor = torch.tensor([1, 2, 3])\n",
    "\n",
    "# Define the size\n",
    "class_num = 5\n",
    "size = 3\n",
    "batch_size = 5\n",
    "\n",
    "label = torch.randint(0, class_num-1, (batch_size,))\n",
    "original_tensor = torch.randint(0, 10, (batch_size, 3))\n",
    "\n",
    "# Create a new tensor with each element repeated 'size' times\n",
    "repeated_tensor = original_tensor.repeat_interleave(size).reshape(batch_size, size, -1)\n",
    "print(label)\n",
    "#print(repeated_tensor)\n",
    "#repeated_tensor = repeated_tensor.reshape(class_num, size, 1)\n",
    "\n",
    "label_idx = list(range(len(label)*size))\n",
    "random.shuffle(label_idx)\n",
    "#label_shuffle = torch.tensor(label[label_idx])\n",
    "print(label_idx)\n",
    "\n"
   ]
  },
  {
   "cell_type": "code",
   "execution_count": 44,
   "metadata": {},
   "outputs": [
    {
     "name": "stdout",
     "output_type": "stream",
     "text": [
      "もとのテンソル tensor([1, 1, 1, 2, 2, 2, 3, 3, 3, 4, 4, 4, 5, 5, 5, 2, 2, 2])\n",
      "シャッフルされたテンソル: tensor([4, 4, 4, 2, 2, 2, 5, 5, 5, 1, 1, 1, 2, 2, 2, 3, 3, 3])\n",
      "シャッフルされたインデックス: [9, 10, 11, 15, 16, 17, 12, 13, 14, 0, 1, 2, 3, 4, 5, 6, 7, 8]\n"
     ]
    }
   ],
   "source": [
    "import torch\n",
    "import random\n",
    "from itertools import groupby\n",
    "\n",
    "# 元のテンソル\n",
    "original_tensor = torch.tensor([1, 1, 1, 2, 2, 2, 3, 3, 3, 4, 4, 4, 5, 5, 5, 2, 2, 2])\n",
    "\n",
    "# テンソルをリストに変換\n",
    "original_list = original_tensor.tolist()\n",
    "\n",
    "# 同じ数字のセットをサブリストに分割し、そのインデックスも取得\n",
    "grouped_values = []\n",
    "grouped_indices = []\n",
    "for value, group in groupby(enumerate(original_list), key=lambda x: x[1]):\n",
    "    group = list(group)\n",
    "    grouped_values.append([x[1] for x in group])  # 値\n",
    "    grouped_indices.append([x[0] for x in group])  # インデックス\n",
    "\n",
    "# 値のサブリストとインデックスを同じ順番でシャッフル\n",
    "combined = list(zip(grouped_values, grouped_indices))\n",
    "random.shuffle(combined)\n",
    "\n",
    "# シャッフルされたサブリストを結合\n",
    "shuffled_values = [item for group, _ in combined for item in group]\n",
    "shuffled_indices = [idx for _, indices in combined for idx in indices]\n",
    "\n",
    "# リストを再びテンソルに変換\n",
    "shuffled_tensor = torch.tensor(shuffled_values)\n",
    "\n",
    "print(\"もとのテンソル\", original_tensor)\n",
    "print(\"シャッフルされたテンソル:\", shuffled_tensor)\n",
    "print(\"シャッフルされたインデックス:\", shuffled_indices)\n",
    "    "
   ]
  }
 ],
 "metadata": {
  "kernelspec": {
   "display_name": "awt",
   "language": "python",
   "name": "python3"
  },
  "language_info": {
   "codemirror_mode": {
    "name": "ipython",
    "version": 3
   },
   "file_extension": ".py",
   "mimetype": "text/x-python",
   "name": "python",
   "nbconvert_exporter": "python",
   "pygments_lexer": "ipython3",
   "version": "3.8.20"
  }
 },
 "nbformat": 4,
 "nbformat_minor": 2
}

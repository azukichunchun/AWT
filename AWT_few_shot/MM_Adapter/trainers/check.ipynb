{
 "cells": [
  {
   "cell_type": "code",
   "execution_count": 1,
   "metadata": {},
   "outputs": [],
   "source": [
    "import torch"
   ]
  },
  {
   "cell_type": "code",
   "execution_count": 2,
   "metadata": {},
   "outputs": [
    {
     "name": "stdout",
     "output_type": "stream",
     "text": [
      "tensor([1, 1, 1, 2, 2, 2, 3, 3, 3])\n"
     ]
    }
   ],
   "source": [
    "# Define the original tensor\n",
    "original_tensor = torch.tensor([1, 2, 3])\n",
    "\n",
    "# Define the size\n",
    "size = 3\n",
    "\n",
    "# Create a new tensor with each element repeated 'size' times\n",
    "repeated_tensor = original_tensor.repeat_interleave(size)\n",
    "\n",
    "print(repeated_tensor)"
   ]
  }
 ],
 "metadata": {
  "kernelspec": {
   "display_name": "awt",
   "language": "python",
   "name": "python3"
  },
  "language_info": {
   "codemirror_mode": {
    "name": "ipython",
    "version": 3
   },
   "file_extension": ".py",
   "mimetype": "text/x-python",
   "name": "python",
   "nbconvert_exporter": "python",
   "pygments_lexer": "ipython3",
   "version": "3.8.20"
  }
 },
 "nbformat": 4,
 "nbformat_minor": 2
}
